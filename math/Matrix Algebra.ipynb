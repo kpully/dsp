{
 "cells": [
  {
   "cell_type": "code",
   "execution_count": 1,
   "metadata": {
    "collapsed": true
   },
   "outputs": [],
   "source": [
    "import pandas as pd\n",
    "import numpy as np"
   ]
  },
  {
   "cell_type": "code",
   "execution_count": 5,
   "metadata": {
    "collapsed": false
   },
   "outputs": [],
   "source": [
    "A = np.array([[1, 2, 3], [2,7,4]])\n",
    "B = np.array([[1, -1], [0, 1]])\n",
    "C = np.array([[5, -1], [9, 1], [6, 0]])\n",
    "D = np.array([[3, -2, -1], [1,2, 3]])\n",
    "u = np.array([6, 2, -3, 5])\n",
    "v = np.array([3, 5, -1, 4])\n",
    "w = np.array([[1], [8], [0], [5]])\n",
    "\n",
    "alpha = 6"
   ]
  },
  {
   "cell_type": "code",
   "execution_count": 6,
   "metadata": {
    "collapsed": false
   },
   "outputs": [
    {
     "data": {
      "text/plain": [
       "array([ 9,  7, -4,  9])"
      ]
     },
     "execution_count": 6,
     "metadata": {},
     "output_type": "execute_result"
    }
   ],
   "source": [
    "#2.1\n",
    "u + v"
   ]
  },
  {
   "cell_type": "code",
   "execution_count": 7,
   "metadata": {
    "collapsed": false
   },
   "outputs": [
    {
     "data": {
      "text/plain": [
       "array([ 3, -3, -2,  1])"
      ]
     },
     "execution_count": 7,
     "metadata": {},
     "output_type": "execute_result"
    }
   ],
   "source": [
    "#2.2\n",
    "u - v"
   ]
  },
  {
   "cell_type": "code",
   "execution_count": 8,
   "metadata": {
    "collapsed": false
   },
   "outputs": [
    {
     "data": {
      "text/plain": [
       "array([ 36,  12, -18,  30])"
      ]
     },
     "execution_count": 8,
     "metadata": {},
     "output_type": "execute_result"
    }
   ],
   "source": [
    "#2.3\n",
    "alpha*u"
   ]
  },
  {
   "cell_type": "code",
   "execution_count": 9,
   "metadata": {
    "collapsed": false
   },
   "outputs": [
    {
     "data": {
      "text/plain": [
       "array([18, 10,  3, 20])"
      ]
     },
     "execution_count": 9,
     "metadata": {},
     "output_type": "execute_result"
    }
   ],
   "source": [
    "#2.4\n",
    "u*v"
   ]
  },
  {
   "cell_type": "code",
   "execution_count": 10,
   "metadata": {
    "collapsed": true
   },
   "outputs": [],
   "source": [
    "#2.5"
   ]
  },
  {
   "cell_type": "code",
   "execution_count": 21,
   "metadata": {
    "collapsed": false
   },
   "outputs": [
    {
     "name": "stdout",
     "output_type": "stream",
     "text": [
      "Not Defined\n"
     ]
    }
   ],
   "source": [
    "#3.1\n",
    "try:\n",
    "    print A + C\n",
    "except:\n",
    "    print \"Not Defined\""
   ]
  },
  {
   "cell_type": "code",
   "execution_count": 20,
   "metadata": {
    "collapsed": false
   },
   "outputs": [
    {
     "name": "stdout",
     "output_type": "stream",
     "text": [
      "[[-4 -7 -3]\n",
      " [ 3  6  4]]\n"
     ]
    }
   ],
   "source": [
    "#3.2\n",
    "try:\n",
    "    print A - C.transpose()\n",
    "except:\n",
    "    print \"Not Defined\""
   ]
  },
  {
   "cell_type": "code",
   "execution_count": 22,
   "metadata": {
    "collapsed": false
   },
   "outputs": [
    {
     "name": "stdout",
     "output_type": "stream",
     "text": [
      "[[14  3  3]\n",
      " [ 2  7  9]]\n"
     ]
    }
   ],
   "source": [
    "#3.3\n",
    "try:\n",
    "    print C.transpose() + 3*D\n",
    "except:\n",
    "    print \"Not Defined\""
   ]
  },
  {
   "cell_type": "code",
   "execution_count": 28,
   "metadata": {
    "collapsed": false
   },
   "outputs": [
    {
     "name": "stdout",
     "output_type": "stream",
     "text": [
      "[[-1 -5 -1]\n",
      " [ 2  7  4]]\n"
     ]
    }
   ],
   "source": [
    "#3.4\n",
    "try:\n",
    "    print np.dot(B, A)\n",
    "except:\n",
    "    print \"Not Defined\""
   ]
  },
  {
   "cell_type": "code",
   "execution_count": 29,
   "metadata": {
    "collapsed": false
   },
   "outputs": [
    {
     "name": "stdout",
     "output_type": "stream",
     "text": [
      "Not Defined\n"
     ]
    }
   ],
   "source": [
    "#3.5\n",
    "try:\n",
    "    print np.dot(B, A.transpose())\n",
    "except:\n",
    "    print \"Not Defined\""
   ]
  },
  {
   "cell_type": "code",
   "execution_count": 30,
   "metadata": {
    "collapsed": false
   },
   "outputs": [
    {
     "name": "stdout",
     "output_type": "stream",
     "text": [
      "Not Defined\n"
     ]
    }
   ],
   "source": [
    "#3.6\n",
    "try:\n",
    "    print np.dot(B, C)\n",
    "except:\n",
    "    print \"Not Defined\""
   ]
  },
  {
   "cell_type": "code",
   "execution_count": 31,
   "metadata": {
    "collapsed": false
   },
   "outputs": [
    {
     "name": "stdout",
     "output_type": "stream",
     "text": [
      "[[ 5 -6]\n",
      " [ 9 -8]\n",
      " [ 6 -6]]\n"
     ]
    }
   ],
   "source": [
    "#3.7\n",
    "try:\n",
    "    print np.dot(C, B)\n",
    "except:\n",
    "    print \"Not Defined\""
   ]
  },
  {
   "cell_type": "code",
   "execution_count": 35,
   "metadata": {
    "collapsed": false,
    "scrolled": true
   },
   "outputs": [
    {
     "name": "stdout",
     "output_type": "stream",
     "text": [
      "[[ 1 -4]\n",
      " [ 0  1]]\n"
     ]
    }
   ],
   "source": [
    "#3.8**\n",
    "try:\n",
    "    print np.linalg.matrix_power(B, 4)\n",
    "except:\n",
    "    print \"Not Defined\""
   ]
  },
  {
   "cell_type": "code",
   "execution_count": 33,
   "metadata": {
    "collapsed": false
   },
   "outputs": [
    {
     "name": "stdout",
     "output_type": "stream",
     "text": [
      "[[14 28]\n",
      " [28 69]]\n"
     ]
    }
   ],
   "source": [
    "#3.9\n",
    "try:\n",
    "    print np.dot(A, A.transpose())\n",
    "except:\n",
    "    print \"Not Defined\""
   ]
  },
  {
   "cell_type": "code",
   "execution_count": 34,
   "metadata": {
    "collapsed": false
   },
   "outputs": [
    {
     "name": "stdout",
     "output_type": "stream",
     "text": [
      "[[10 -4  0]\n",
      " [-4  8  8]\n",
      " [ 0  8 10]]\n"
     ]
    }
   ],
   "source": [
    "#3.10\n",
    "try:\n",
    "    print np.dot(D.transpose(), D)\n",
    "except:\n",
    "    print \"Not Defined\""
   ]
  },
  {
   "cell_type": "code",
   "execution_count": null,
   "metadata": {
    "collapsed": true
   },
   "outputs": [],
   "source": []
  }
 ],
 "metadata": {
  "kernelspec": {
   "display_name": "Python 2",
   "language": "python",
   "name": "python2"
  },
  "language_info": {
   "codemirror_mode": {
    "name": "ipython",
    "version": 2
   },
   "file_extension": ".py",
   "mimetype": "text/x-python",
   "name": "python",
   "nbconvert_exporter": "python",
   "pygments_lexer": "ipython2",
   "version": "2.7.11"
  }
 },
 "nbformat": 4,
 "nbformat_minor": 0
}
