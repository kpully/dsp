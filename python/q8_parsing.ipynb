{
 "cells": [
  {
   "cell_type": "code",
   "execution_count": 2,
   "metadata": {
    "collapsed": true
   },
   "outputs": [],
   "source": [
    "import pandas as pd"
   ]
  },
  {
   "cell_type": "code",
   "execution_count": 28,
   "metadata": {
    "collapsed": false
   },
   "outputs": [],
   "source": [
    "#The football.csv file contains the results from the English Premier League. \n",
    "# The columns labeled ‘Goals’ and ‘Goals Allowed’ contain the total number of \n",
    "# goals scored for and against each team in that season (so Arsenal scored 79 goals \n",
    "# against opponents, and had 36 goals scored against them). Write a program to read the file, \n",
    "# then print the name of the team with the smallest difference in ‘for’ and ‘against’ goals.\n",
    "\n",
    "# The below skeleton is optional.  You can use it or you can write the script with an approach of your choice.\n",
    "\n",
    "\n",
    "import csv\n",
    "\n",
    "def read_data(data):\n",
    "    dir = '/Users/kpully/ds/metis/prework/dsp/python/'+ data\n",
    "    dta = pd.read_csv('/Users/kpully/ds/metis/prework/dsp/python/'+ data)\n",
    "    return dta\n",
    "\n",
    "def get_min_score_difference(self, parsed_data):\n",
    "    print parsed_data\n",
    "\n",
    "def get_team(self, index_value, parsed_data):\n",
    "    return\n",
    "    # COMPLETE THIS FUNCTION\n"
   ]
  },
  {
   "cell_type": "code",
   "execution_count": 32,
   "metadata": {
    "collapsed": false
   },
   "outputs": [
    {
     "ename": "NameError",
     "evalue": "name 'self' is not defined",
     "output_type": "error",
     "traceback": [
      "\u001b[0;31m---------------------------------------------------------------------------\u001b[0m",
      "\u001b[0;31mNameError\u001b[0m                                 Traceback (most recent call last)",
      "\u001b[0;32m<ipython-input-32-6e0d4a1620bc>\u001b[0m in \u001b[0;36m<module>\u001b[0;34m()\u001b[0m\n\u001b[1;32m      1\u001b[0m \u001b[0mdta\u001b[0m \u001b[0;34m=\u001b[0m \u001b[0mread_data\u001b[0m\u001b[0;34m(\u001b[0m\u001b[0;34m'football.csv'\u001b[0m\u001b[0;34m)\u001b[0m\u001b[0;34m\u001b[0m\u001b[0m\n\u001b[0;32m----> 2\u001b[0;31m \u001b[0mget_min_score_difference\u001b[0m\u001b[0;34m(\u001b[0m\u001b[0mself\u001b[0m\u001b[0;34m,\u001b[0m \u001b[0mdta\u001b[0m\u001b[0;34m)\u001b[0m\u001b[0;34m\u001b[0m\u001b[0m\n\u001b[0m",
      "\u001b[0;31mNameError\u001b[0m: name 'self' is not defined"
     ]
    }
   ],
   "source": [
    "dta = read_data('football.csv')\n",
    "get_min_score_difference(self, dta)"
   ]
  },
  {
   "cell_type": "code",
   "execution_count": 23,
   "metadata": {
    "collapsed": false
   },
   "outputs": [
    {
     "name": "stdout",
     "output_type": "stream",
     "text": [
      "                 Team  Games  Wins  Losses  Draws  Goals  Goals Allowed  \\\n",
      "0             Arsenal     38    26       9      3     79             36   \n",
      "1           Liverpool     38    24       8      6     67             30   \n",
      "2   Manchester United     38    24       5      9     87             45   \n",
      "3           Newcastle     38    21       8      9     74             52   \n",
      "4               Leeds     38    18      12      8     53             37   \n",
      "5             Chelsea     38    17      13      8     66             38   \n",
      "6            West_Ham     38    15       8     15     48             57   \n",
      "7         Aston_Villa     38    12      14     12     46             47   \n",
      "8           Tottenham     38    14       8     16     49             53   \n",
      "9           Blackburn     38    12      10     16     55             51   \n",
      "10        Southampton     38    12       9     17     46             54   \n",
      "11      Middlesbrough     38    12       9     17     35             47   \n",
      "12             Fulham     38    10      14     14     36             44   \n",
      "13           Charlton     38    10      14     14     38             49   \n",
      "14            Everton     38    11      10     17     45             57   \n",
      "15             Bolton     38     9      13     16     44             62   \n",
      "16         Sunderland     38    10      10     18     29             51   \n",
      "17            Ipswich     38     9       9     20     41             64   \n",
      "18              Derby     38     8       6     24     33             63   \n",
      "19          Leicester     38     5      13     20     30             64   \n",
      "\n",
      "    Points  \n",
      "0       87  \n",
      "1       80  \n",
      "2       77  \n",
      "3       71  \n",
      "4       66  \n",
      "5       64  \n",
      "6       53  \n",
      "7       50  \n",
      "8       50  \n",
      "9       46  \n",
      "10      45  \n",
      "11      45  \n",
      "12      44  \n",
      "13      44  \n",
      "14      43  \n",
      "15      40  \n",
      "16      40  \n",
      "17      36  \n",
      "18      30  \n",
      "19      28  \n"
     ]
    }
   ],
   "source": [
    "#data = pd.read_csv('/Users/kpully/ds/metis/prework/dsp/python/football.csv')\n",
    "#print data"
   ]
  },
  {
   "cell_type": "code",
   "execution_count": 33,
   "metadata": {
    "collapsed": false
   },
   "outputs": [
    {
     "ename": "NameError",
     "evalue": "name 'teams' is not defined",
     "output_type": "error",
     "traceback": [
      "\u001b[0;31m---------------------------------------------------------------------------\u001b[0m",
      "\u001b[0;31mNameError\u001b[0m                                 Traceback (most recent call last)",
      "\u001b[0;32m<ipython-input-33-cc099762eabc>\u001b[0m in \u001b[0;36m<module>\u001b[0;34m()\u001b[0m\n\u001b[1;32m      1\u001b[0m \u001b[0mmin_diff\u001b[0m \u001b[0;34m=\u001b[0m \u001b[0;36m100\u001b[0m\u001b[0;34m\u001b[0m\u001b[0m\n\u001b[0;32m----> 2\u001b[0;31m \u001b[0;32mfor\u001b[0m \u001b[0mteam\u001b[0m \u001b[0;32min\u001b[0m \u001b[0mteams\u001b[0m\u001b[0;34m:\u001b[0m\u001b[0;34m\u001b[0m\u001b[0m\n\u001b[0m\u001b[1;32m      3\u001b[0m     \u001b[0;32mif\u001b[0m \u001b[0mabs\u001b[0m\u001b[0;34m(\u001b[0m\u001b[0mgoals\u001b[0m \u001b[0;34m-\u001b[0m \u001b[0mgoals_allowed\u001b[0m\u001b[0;34m)\u001b[0m \u001b[0;34m<\u001b[0m \u001b[0mmin_diff\u001b[0m\u001b[0;34m:\u001b[0m\u001b[0;34m\u001b[0m\u001b[0m\n\u001b[1;32m      4\u001b[0m         \u001b[0mmin_diff\u001b[0m \u001b[0;34m=\u001b[0m \u001b[0mabs\u001b[0m\u001b[0;34m(\u001b[0m\u001b[0mgoals\u001b[0m\u001b[0;34m-\u001b[0m\u001b[0mgoals_allowed\u001b[0m\u001b[0;34m)\u001b[0m\u001b[0;34m\u001b[0m\u001b[0m\n\u001b[1;32m      5\u001b[0m \u001b[0;32mprint\u001b[0m \u001b[0mmin_diff\u001b[0m\u001b[0;34m\u001b[0m\u001b[0m\n",
      "\u001b[0;31mNameError\u001b[0m: name 'teams' is not defined"
     ]
    }
   ],
   "source": [
    "min_diff = 100\n",
    "for team in teams:\n",
    "    if abs(goals - goals_allowed) < min_diff:\n",
    "        min_diff = abs(goals-goals_allowed)\n",
    "print min_diff"
   ]
  },
  {
   "cell_type": "code",
   "execution_count": null,
   "metadata": {
    "collapsed": true
   },
   "outputs": [],
   "source": []
  }
 ],
 "metadata": {
  "kernelspec": {
   "display_name": "Python 2",
   "language": "python",
   "name": "python2"
  },
  "language_info": {
   "codemirror_mode": {
    "name": "ipython",
    "version": 2
   },
   "file_extension": ".py",
   "mimetype": "text/x-python",
   "name": "python",
   "nbconvert_exporter": "python",
   "pygments_lexer": "ipython2",
   "version": "2.7.11"
  }
 },
 "nbformat": 4,
 "nbformat_minor": 0
}
