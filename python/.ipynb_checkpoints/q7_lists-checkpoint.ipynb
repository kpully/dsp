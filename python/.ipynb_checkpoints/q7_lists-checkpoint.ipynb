{
 "cells": [
  {
   "cell_type": "code",
   "execution_count": 57,
   "metadata": {
    "collapsed": false
   },
   "outputs": [],
   "source": [
    "# Based on materials copyright 2010 Google Inc.\n",
    "# Licensed under the Apache License, Version 2.0\n",
    "\n",
    "\n",
    "def match_ends(words):\n",
    "    \"\"\"\n",
    "    Given a list of strings, return the count of the number of strings\n",
    "    where the string length is 2 or more and the first and last chars\n",
    "    of the string are the same.\n",
    "    >>> match_ends(['aba', 'xyz', 'aa', 'x', 'bbb'])\n",
    "    3\n",
    "    >>> match_ends(['', 'x', 'xy', 'xyx', 'xx'])\n",
    "    2\n",
    "    >>> match_ends(['aaa', 'be', 'abc', 'hello'])\n",
    "    1\n",
    "    \"\"\"\n",
    "    count = 0\n",
    "    for word in words:\n",
    "        if len(word) >= 2 and word[0] == word[len(word)-1]:\n",
    "            count += 1\n",
    "    return count\n",
    "\n",
    "\n",
    "def front_x(words):\n",
    "    \"\"\"\n",
    "    Given a list of strings, return a list with the strings in sorted\n",
    "    order, except group all the strings that begin with 'x' first.\n",
    "    e.g. ['mix', 'xyz', 'apple', 'xanadu', 'aardvark'] yields\n",
    "         ['xanadu', 'xyz', 'aardvark', 'apple', 'mix'].\n",
    "    >>> front_x(['bbb', 'ccc', 'axx', 'xzz', 'xaa'])\n",
    "    ['xaa', 'xzz', 'axx', 'bbb', 'ccc']\n",
    "    >>> front_x(['ccc', 'bbb', 'aaa', 'xcc', 'xaa'])\n",
    "    ['xaa', 'xcc', 'aaa', 'bbb', 'ccc']\n",
    "    >>> front_x(['mix', 'xyz', 'apple', 'xanadu', 'aardvark'])\n",
    "    ['xanadu', 'xyz', 'aardvark', 'apple', 'mix']\n",
    "    \"\"\"\n",
    "    x = list()\n",
    "    for word in words:\n",
    "        if word[0]=='x':\n",
    "            x.append(word)\n",
    "            words.remove(word)\n",
    "    return sorted(x) + sorted(words)\n",
    "\n",
    "def sort_last(tuples):\n",
    "    \"\"\"\n",
    "    Given a list of non-empty tuples, return a list sorted in\n",
    "    increasing order by the last element in each tuple.\n",
    "    e.g. [(1, 7), (1, 3), (3, 4, 5), (2, 2)] yields\n",
    "         [(2, 2), (1, 3), (3, 4, 5), (1, 7)].\n",
    "    >>> sort_last([(1, 3), (3, 2), (2, 1)])\n",
    "    [(2, 1), (3, 2), (1, 3)]\n",
    "    >>> sort_last([(2, 3), (1, 2), (3, 1)])\n",
    "    [(3, 1), (1, 2), (2, 3)]\n",
    "    >>> sort_last([(1, 7), (1, 3), (3, 4, 5), (2, 2)])\n",
    "    [(2, 2), (1, 3), (3, 4, 5), (1, 7)]\n",
    "    \"\"\"\n",
    "    return sorted(tuples, key=lambda x: x[len(x)-1])\n",
    "    \n",
    "\n",
    "\n",
    "def remove_adjacent(nums):\n",
    "    \"\"\"\n",
    "    Given a list of numbers, return a list where all adjacent equal\n",
    "    elements have been reduced to a single element, so [1, 2, 2, 3]\n",
    "    returns [1, 2, 3]. You may create a new list or modify the passed\n",
    "    in list.\n",
    "    >>> remove_adjacent([1, 2, 2, 3])\n",
    "    [1, 2, 3]\n",
    "    >>> remove_adjacent([2, 2, 3, 3, 3])\n",
    "    [2, 3]\n",
    "    >>> remove_adjacent([3, 2, 3, 3, 3])\n",
    "    [3, 2, 3]\n",
    "    >>> remove_adjacent([])\n",
    "    []\n",
    "    \"\"\"\n",
    "    for i in xrange(len(nums)-1, 0, -1):\n",
    "        if nums[i]==nums[i-1]:\n",
    "            del nums[i]\n",
    "    return nums\n",
    "\n",
    "\n",
    "def linear_merge(list1, list2):\n",
    "    \"\"\"\n",
    "    Given two lists sorted in increasing order, create and return a\n",
    "    merged list of all the elements in sorted order. You may modify\n",
    "    the passed in lists. Ideally, the solution should work in \"linear\"\n",
    "    time, making a single pass of both lists.\n",
    "    >>> linear_merge(['aa', 'xx', 'zz'], ['bb', 'cc'])\n",
    "    ['aa', 'bb', 'cc', 'xx', 'zz']\n",
    "    >>> linear_merge(['aa', 'xx'], ['bb', 'cc', 'zz'])\n",
    "    ['aa', 'bb', 'cc', 'xx', 'zz']\n",
    "    >>> linear_merge(['aa', 'aa'], ['aa', 'bb', 'bb'])\n",
    "    ['aa', 'aa', 'aa', 'bb', 'bb']\n",
    "    \"\"\"\n",
    "    list3 = list1+list2\n",
    "    return sorted(list3)"
   ]
  },
  {
   "cell_type": "code",
   "execution_count": 59,
   "metadata": {
    "collapsed": false
   },
   "outputs": [
    {
     "data": {
      "text/plain": [
       "['aa', 'bb', 'cc', 'xx', 'zz']"
      ]
     },
     "execution_count": 59,
     "metadata": {},
     "output_type": "execute_result"
    }
   ],
   "source": [
    "linear_merge(['aa', 'xx', 'zz'], ['bb', 'cc'])"
   ]
  },
  {
   "cell_type": "code",
   "execution_count": null,
   "metadata": {
    "collapsed": true
   },
   "outputs": [],
   "source": []
  }
 ],
 "metadata": {
  "kernelspec": {
   "display_name": "Python 2",
   "language": "python",
   "name": "python2"
  },
  "language_info": {
   "codemirror_mode": {
    "name": "ipython",
    "version": 2
   },
   "file_extension": ".py",
   "mimetype": "text/x-python",
   "name": "python",
   "nbconvert_exporter": "python",
   "pygments_lexer": "ipython2",
   "version": "2.7.11"
  }
 },
 "nbformat": 4,
 "nbformat_minor": 0
}
